{
  "nbformat": 4,
  "nbformat_minor": 0,
  "metadata": {
    "colab": {
      "provenance": []
    },
    "kernelspec": {
      "name": "python3",
      "display_name": "Python 3"
    },
    "language_info": {
      "name": "python"
    }
  },
  "cells": [
    {
      "cell_type": "code",
      "execution_count": 76,
      "metadata": {
        "id": "ryM04RnZuvaw"
      },
      "outputs": [],
      "source": [
        "import torch\n",
        "import torch.nn as nn\n",
        "import torch.optim as optim\n",
        "from torch.utils.data import DataLoader, TensorDataset\n",
        "import numpy as np"
      ]
    },
    {
      "cell_type": "code",
      "source": [
        "# Model: 2 Layer feedforward neural network\n",
        "class MetaModel(nn.Module):\n",
        "    def __init__(self, input_size, output_size):\n",
        "        super(MetaModel, self).__init__()\n",
        "\n",
        "        # hidden layer: 64 neurons\n",
        "        self.fc1 = nn.Linear(input_size, 64)\n",
        "        self.fc2 = nn.Linear(64, output_size)\n",
        "\n",
        "    # ReLU activation\n",
        "    def forward(self, x):\n",
        "        x = torch.relu(self.fc1(x))\n",
        "        return self.fc2(x)"
      ],
      "metadata": {
        "id": "2M41PIDeuyM4"
      },
      "execution_count": 77,
      "outputs": []
    },
    {
      "cell_type": "code",
      "source": [
        "# MAML algo\n",
        "def maml_update(model, task_data, alpha=0.01):\n",
        "    criterion = nn.CrossEntropyLoss()  # classification task\n",
        "    task_loss = []                     # stores validation losses for each task\n",
        "    gradients = []                     # stores the gradients after fine-tuning the model\n",
        "\n",
        "\n",
        "    for (x_train, y_train, x_val, y_val) in task_data:\n",
        "\n",
        "        # Clone model for task specific update\n",
        "        temp_model = MetaModel(10, 2)  # input=10; output=2\n",
        "        temp_model.load_state_dict(model.state_dict())\n",
        "        optimizer = optim.SGD(temp_model.parameters(), lr=alpha)\n",
        "\n",
        "        # Forward pass\n",
        "        y_pred = temp_model(x_train)\n",
        "        loss = criterion(y_pred, y_train)\n",
        "        optimizer.zero_grad()\n",
        "        loss.backward()\n",
        "        optimizer.step()\n",
        "\n",
        "        # Validation loss\n",
        "        y_val_pred = temp_model(x_val)\n",
        "        val_loss = criterion(y_val_pred, y_val)\n",
        "        task_loss.append(val_loss)\n",
        "        gradients.append([p.grad for p in temp_model.parameters()])\n",
        "\n",
        "    return sum(task_loss) / len(task_loss), gradients"
      ],
      "metadata": {
        "id": "DDF9l9knuz6V"
      },
      "execution_count": 78,
      "outputs": []
    },
    {
      "cell_type": "code",
      "source": [
        "# Synthetic data\n",
        "num_tasks = 5\n",
        "input_size = 10\n",
        "output_size = 2\n",
        "meta_model = MetaModel(input_size, output_size)"
      ],
      "metadata": {
        "id": "TB6BwCTgu3F9"
      },
      "execution_count": 79,
      "outputs": []
    },
    {
      "cell_type": "code",
      "source": [
        "# Random tasks\n",
        "task_data = []\n",
        "for _ in range(num_tasks):\n",
        "    x_train = torch.randn(5, input_size)          # random\n",
        "    y_train = torch.randint(0, output_size, (5,)) # integers between 0 and 1\n",
        "    x_val = torch.randn(5, input_size)\n",
        "    y_val = torch.randint(0, output_size, (5,))\n",
        "    task_data.append((x_train, y_train, x_val, y_val))"
      ],
      "metadata": {
        "id": "gnLPlrKwu46l"
      },
      "execution_count": 80,
      "outputs": []
    },
    {
      "cell_type": "code",
      "source": [
        "# Meta Training loop\n",
        "meta_optimizer = optim.Adam(meta_model.parameters(), lr=0.001) # updates model across tasks\n",
        "for epoch in range(100):\n",
        "    meta_optimizer.zero_grad()\n",
        "    meta_loss, grads = maml_update(meta_model, task_data) # Compute validation loss and task gradients from fine tuned copies\n",
        "\n",
        "    # Apply Avg Meta Gradients\n",
        "    for param, grad in zip(meta_model.parameters(), grads[0]):\n",
        "        param.grad = grad\n",
        "\n",
        "    meta_optimizer.step()\n",
        "    if epoch % 10 == 0:\n",
        "        print(f\"Epoch {epoch}, Meta Loss: {meta_loss.item()}\")"
      ],
      "metadata": {
        "colab": {
          "base_uri": "https://localhost:8080/"
        },
        "id": "uJ-Cnvxiu43p",
        "outputId": "fa0ea1eb-a692-4bee-d0cc-74c0b222bd8f"
      },
      "execution_count": 81,
      "outputs": [
        {
          "output_type": "stream",
          "name": "stdout",
          "text": [
            "Epoch 0, Meta Loss: 0.7276244163513184\n",
            "Epoch 10, Meta Loss: 0.710638165473938\n",
            "Epoch 20, Meta Loss: 0.6883314847946167\n",
            "Epoch 30, Meta Loss: 0.6614252924919128\n",
            "Epoch 40, Meta Loss: 0.6329342126846313\n",
            "Epoch 50, Meta Loss: 0.6059695482254028\n",
            "Epoch 60, Meta Loss: 0.5837315320968628\n",
            "Epoch 70, Meta Loss: 0.5676905512809753\n",
            "Epoch 80, Meta Loss: 0.5568681955337524\n",
            "Epoch 90, Meta Loss: 0.5509260892868042\n"
          ]
        }
      ]
    }
  ]
}